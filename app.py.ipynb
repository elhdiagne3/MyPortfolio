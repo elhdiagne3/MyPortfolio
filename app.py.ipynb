{
 "cells": [
  {
   "cell_type": "code",
   "execution_count": null,
   "id": "1a37e758",
   "metadata": {},
   "outputs": [
    {
     "name": "stdout",
     "output_type": "stream",
     "text": [
      " * Serving Flask app '__main__'\n",
      " * Debug mode: off\n"
     ]
    },
    {
     "name": "stderr",
     "output_type": "stream",
     "text": [
      "WARNING: This is a development server. Do not use it in a production deployment. Use a production WSGI server instead.\n",
      " * Running on http://127.0.0.1:5000\n",
      "Press CTRL+C to quit\n",
      "127.0.0.1 - - [24/Jul/2023 03:03:31] \"GET / HTTP/1.1\" 200 -\n",
      "127.0.0.1 - - [24/Jul/2023 03:03:36] \"GET /CV_2023-04-20_Elhadji%20Diaraff%20Diegane_DIAGNE.pdf HTTP/1.1\" 404 -\n"
     ]
    }
   ],
   "source": [
    "from flask import Flask, render_template, request, url_for, redirect\n",
    "from email.mime.text import MIMEText\n",
    "import smtplib\n",
    "from email.message import EmailMessage\n",
    "app = Flask(__name__)\n",
    "\n",
    "@app.route(\"/\")\n",
    "def index():\n",
    "\treturn render_template(\"index.html\")\n",
    "\n",
    "@app.route(\"/sendemail/\", methods=['POST'])\n",
    "def sendemail():\n",
    "\tif request.method == \"POST\":\n",
    "\t\tname = request.form['name']\n",
    "\t\tsubject = request.form['Subject']\n",
    "\t\temail = request.form['_replyto']\n",
    "\t\tmessage = request.form['message']\n",
    "\n",
    "\t\t# Set your credentials\n",
    "\t\tyourEmail = \"suraj@geeksforgeeks.org\"\n",
    "\t\tyourPassword = \"########\"\n",
    "\n",
    "\t\t# Logging in to our email account\n",
    "\t\tserver = smtplib.SMTP('smtp.gmail.com', 587)\n",
    "\t\tserver.ehlo()\n",
    "\t\tserver.starttls()\n",
    "\t\tserver.login(yourEmail, yourPassword)\n",
    "\n",
    "\t\t# Sender's and Receiver's email address\n",
    "\t\tmsg = EmailMessage()\n",
    "\t\tmsg.set_content(\"First Name : \"+str(name)\n",
    "\t\t\t\t\t\t+\"\\nEmail : \"+str(email)\n",
    "\t\t\t\t\t\t+\"\\nSubject : \"+str(subject)\n",
    "\t\t\t\t\t\t+\"\\nMessage : \"+str(message))\n",
    "\t\tmsg['To'] = email\n",
    "\t\tmsg['From'] = yourEmail\n",
    "\t\tmsg['Subject'] = subject\n",
    "\n",
    "\t\t# Send the message via our own SMTP server.\n",
    "\t\ttry:\n",
    "\t\t\t# sending an email\n",
    "\t\t\tserver.send_message(msg)\n",
    "\t\t\tprint(\"Send\")\n",
    "\t\texcept:\n",
    "\t\t\tprint(\"Fail to Send\")\n",
    "\t\t\tpass\n",
    "\t\t\t\n",
    "\treturn redirect('/')\n",
    "\n",
    "if __name__ == \"__main__\":\n",
    "\tapp.run(debug=False)\n"
   ]
  },
  {
   "cell_type": "code",
   "execution_count": null,
   "id": "77a5d62f",
   "metadata": {},
   "outputs": [],
   "source": []
  }
 ],
 "metadata": {
  "kernelspec": {
   "display_name": "Python 3 (ipykernel)",
   "language": "python",
   "name": "python3"
  },
  "language_info": {
   "codemirror_mode": {
    "name": "ipython",
    "version": 3
   },
   "file_extension": ".py",
   "mimetype": "text/x-python",
   "name": "python",
   "nbconvert_exporter": "python",
   "pygments_lexer": "ipython3",
   "version": "3.10.11"
  }
 },
 "nbformat": 4,
 "nbformat_minor": 5
}
