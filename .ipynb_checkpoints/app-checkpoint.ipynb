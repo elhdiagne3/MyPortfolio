{
 "cells": [
  {
   "cell_type": "code",
   "execution_count": null,
   "id": "9825f93d",
   "metadata": {},
   "outputs": [
    {
     "name": "stdout",
     "output_type": "stream",
     "text": [
      " * Serving Flask app '__main__'\n",
      " * Debug mode: off\n"
     ]
    },
    {
     "name": "stderr",
     "output_type": "stream",
     "text": [
      "WARNING: This is a development server. Do not use it in a production deployment. Use a production WSGI server instead.\n",
      " * Running on http://127.0.0.1:5000\n",
      "Press CTRL+C to quit\n",
      "[2023-07-26 15:43:42,663] ERROR in app: Exception on / [GET]\n",
      "Traceback (most recent call last):\n",
      "  File \"C:\\Users\\diagne080894\\Documents\\Min\\envs\\pyenv1\\lib\\site-packages\\flask\\app.py\", line 2190, in wsgi_app\n",
      "    response = self.full_dispatch_request()\n",
      "  File \"C:\\Users\\diagne080894\\Documents\\Min\\envs\\pyenv1\\lib\\site-packages\\flask\\app.py\", line 1486, in full_dispatch_request\n",
      "    rv = self.handle_user_exception(e)\n",
      "  File \"C:\\Users\\diagne080894\\Documents\\Min\\envs\\pyenv1\\lib\\site-packages\\flask\\app.py\", line 1484, in full_dispatch_request\n",
      "    rv = self.dispatch_request()\n",
      "  File \"C:\\Users\\diagne080894\\Documents\\Min\\envs\\pyenv1\\lib\\site-packages\\flask\\app.py\", line 1469, in dispatch_request\n",
      "    return self.ensure_sync(self.view_functions[rule.endpoint])(**view_args)\n",
      "  File \"C:\\Users\\diagne080894\\AppData\\Local\\Temp\\ipykernel_22740\\993783535.py\", line 9, in index\n",
      "    return render_template(\"Portfolio/index.html\")\n",
      "  File \"C:\\Users\\diagne080894\\Documents\\Min\\envs\\pyenv1\\lib\\site-packages\\flask\\templating.py\", line 150, in render_template\n",
      "    template = app.jinja_env.get_or_select_template(template_name_or_list)\n",
      "  File \"C:\\Users\\diagne080894\\Documents\\Min\\envs\\pyenv1\\lib\\site-packages\\jinja2\\environment.py\", line 1081, in get_or_select_template\n",
      "    return self.get_template(template_name_or_list, parent, globals)\n",
      "  File \"C:\\Users\\diagne080894\\Documents\\Min\\envs\\pyenv1\\lib\\site-packages\\jinja2\\environment.py\", line 1010, in get_template\n",
      "    return self._load_template(name, globals)\n",
      "  File \"C:\\Users\\diagne080894\\Documents\\Min\\envs\\pyenv1\\lib\\site-packages\\jinja2\\environment.py\", line 969, in _load_template\n",
      "    template = self.loader.load(self, name, self.make_globals(globals))\n",
      "  File \"C:\\Users\\diagne080894\\Documents\\Min\\envs\\pyenv1\\lib\\site-packages\\jinja2\\loaders.py\", line 126, in load\n",
      "    source, filename, uptodate = self.get_source(environment, name)\n",
      "  File \"C:\\Users\\diagne080894\\Documents\\Min\\envs\\pyenv1\\lib\\site-packages\\flask\\templating.py\", line 64, in get_source\n",
      "    return self._get_source_fast(environment, template)\n",
      "  File \"C:\\Users\\diagne080894\\Documents\\Min\\envs\\pyenv1\\lib\\site-packages\\flask\\templating.py\", line 98, in _get_source_fast\n",
      "    raise TemplateNotFound(template)\n",
      "jinja2.exceptions.TemplateNotFound: Portfolio/index.html\n",
      "127.0.0.1 - - [26/Jul/2023 15:43:42] \"GET / HTTP/1.1\" 500 -\n"
     ]
    }
   ],
   "source": [
    "from flask import Flask, render_template, request, url_for, redirect\n",
    "from email.mime.text import MIMEText\n",
    "import smtplib\n",
    "from email.message import EmailMessage\n",
    "app = Flask(__name__)\n",
    "\n",
    "@app.route(\"/\")\n",
    "def index():\n",
    "\treturn render_template(\"index.html\")\n",
    "\n",
    "@app.route(\"/sendemail/\", methods=['POST'])\n",
    "def sendemail():\n",
    "\tif request.method == \"POST\":\n",
    "\t\tname = request.form['name']\n",
    "\t\tsubject = request.form['Subject']\n",
    "\t\temail = request.form['_replyto']\n",
    "\t\tmessage = request.form['message']\n",
    "\n",
    "\t\t# Set your credentials\n",
    "\t\tyourEmail = \"elhadjids2023@gmail.com\"\n",
    "\t\tyourPassword = \"Diagne080894@\"\n",
    "\n",
    "\t\t# Logging in to our email account\n",
    "\t\tserver = smtplib.SMTP('smtp.gmail.com', 587)\n",
    "\t\tserver.ehlo()\n",
    "\t\tserver.starttls()\n",
    "\t\tserver.login(yourEmail, yourPassword)\n",
    "\n",
    "\t\t# Sender's and Receiver's email address\n",
    "\t\tmsg = EmailMessage()\n",
    "\t\tmsg.set_content(\"First Name : \"+str(name)\n",
    "\t\t\t\t\t\t+\"\\nEmail : \"+str(email)\n",
    "\t\t\t\t\t\t+\"\\nSubject : \"+str(subject)\n",
    "\t\t\t\t\t\t+\"\\nMessage : \"+str(message))\n",
    "\t\tmsg['To'] = email\n",
    "\t\tmsg['From'] = yourEmail\n",
    "\t\tmsg['Subject'] = subject\n",
    "\n",
    "\t\t# Send the message via our own SMTP server.\n",
    "\t\ttry:\n",
    "\t\t\t# sending an email\n",
    "\t\t\tserver.send_message(msg)\n",
    "\t\t\tprint(\"Send\")\n",
    "\t\texcept:\n",
    "\t\t\tprint(\"Fail to Send\")\n",
    "\t\t\tpass\n",
    "\t\t\t\n",
    "\treturn redirect('/')\n",
    "\n",
    "if __name__ == \"__main__\":\n",
    "\tapp.run(debug=False)\n"
   ]
  },
  {
   "cell_type": "code",
   "execution_count": 2,
   "id": "96923295",
   "metadata": {},
   "outputs": [],
   "source": []
  }
 ],
 "metadata": {
  "kernelspec": {
   "display_name": "Python 3 (ipykernel)",
   "language": "python",
   "name": "python3"
  },
  "language_info": {
   "codemirror_mode": {
    "name": "ipython",
    "version": 3
   },
   "file_extension": ".py",
   "mimetype": "text/x-python",
   "name": "python",
   "nbconvert_exporter": "python",
   "pygments_lexer": "ipython3",
   "version": "3.10.11"
  }
 },
 "nbformat": 4,
 "nbformat_minor": 5
}
